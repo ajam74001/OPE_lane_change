{
 "cells": [
  {
   "cell_type": "code",
   "execution_count": 3,
   "id": "1f8aeeb8",
   "metadata": {},
   "outputs": [
    {
     "ename": "ModuleNotFoundError",
     "evalue": "No module named 'ope'",
     "output_type": "error",
     "traceback": [
      "\u001b[0;31m---------------------------------------------------------------------------\u001b[0m",
      "\u001b[0;31mModuleNotFoundError\u001b[0m                       Traceback (most recent call last)",
      "Cell \u001b[0;32mIn[3], line 2\u001b[0m\n\u001b[1;32m      1\u001b[0m \u001b[38;5;28;01mimport\u001b[39;00m \u001b[38;5;21;01mpandas\u001b[39;00m \u001b[38;5;28;01mas\u001b[39;00m \u001b[38;5;21;01mpd\u001b[39;00m\n\u001b[0;32m----> 2\u001b[0m \u001b[38;5;28;01mfrom\u001b[39;00m \u001b[38;5;21;01mope\u001b[39;00m\u001b[38;5;21;01m.\u001b[39;00m\u001b[38;5;21;01mmethods\u001b[39;00m \u001b[38;5;28;01mimport\u001b[39;00m doubly_robust\n",
      "\u001b[0;31mModuleNotFoundError\u001b[0m: No module named 'ope'"
     ]
    }
   ],
   "source": [
    "import pandas as pd\n",
    "from ope.methods import doubly_robust"
   ]
  },
  {
   "cell_type": "markdown",
   "id": "23784f7e",
   "metadata": {},
   "source": [
    "### Example using the doubly robust (DR) method to offline evaluate a new fraud policy"
   ]
  },
  {
   "cell_type": "markdown",
   "id": "7852be47",
   "metadata": {},
   "source": [
    "#### 1 - Assume we have a fraud model in production that blocks transactions if the P(fraud) > 0.05"
   ]
  },
  {
   "cell_type": "markdown",
   "id": "ac18fdba",
   "metadata": {},
   "source": [
    "Let's build some sample logs from that policy running in production. One thing to note, we need some basic exploration in the production logs (e.g. epsilon-greedy w/ε = 0.1). That is, 10% of the time we take a random action. Rewards represent revenue gained from allowing the transaction. A negative reward indicates the transaction was fraud and resulted in a chargeback."
   ]
  },
  {
   "cell_type": "code",
   "execution_count": null,
   "id": "8cd1717e",
   "metadata": {},
   "outputs": [],
   "source": [
    "logs_df = pd.DataFrame([\n",
    "    {\"context\": {\"p_fraud\": 0.08}, \"action\": \"blocked\", \"action_prob\": 0.90, \"reward\": 0},\n",
    "    {\"context\": {\"p_fraud\": 0.03}, \"action\": \"allowed\", \"action_prob\": 0.90, \"reward\": 20},\n",
    "    {\"context\": {\"p_fraud\": 0.02}, \"action\": \"allowed\", \"action_prob\": 0.90, \"reward\": 10}, \n",
    "    {\"context\": {\"p_fraud\": 0.01}, \"action\": \"allowed\", \"action_prob\": 0.90, \"reward\": 20},     \n",
    "    {\"context\": {\"p_fraud\": 0.09}, \"action\": \"allowed\", \"action_prob\": 0.10, \"reward\": -20}, # only allowed due to exploration \n",
    "    {\"context\": {\"p_fraud\": 0.40}, \"action\": \"allowed\", \"action_prob\": 0.10, \"reward\": -10}, # only allowed due to exploration     \n",
    "])\n",
    "\n",
    "logs_df"
   ]
  },
  {
   "cell_type": "markdown",
   "id": "01ddd5bb",
   "metadata": {},
   "source": [
    "#### 2 - Now let's use the doubly robust method to score a more lenient fraud model that blocks transactions only if the P(fraud) > 0.10"
   ]
  },
  {
   "cell_type": "markdown",
   "id": "062ca5df",
   "metadata": {},
   "source": [
    "The doubly robust method requires that we have a function that computes `P(action | context)`for all possible actions under our new policy. We can define that for our new policy easily here:"
   ]
  },
  {
   "cell_type": "code",
   "execution_count": null,
   "id": "68a0b906",
   "metadata": {},
   "outputs": [],
   "source": [
    "def action_probabilities(context):\n",
    "    epsilon = 0.10\n",
    "    if context[\"p_fraud\"] > 0.10:\n",
    "        return {\"allowed\": epsilon, \"blocked\": 1 - epsilon}    \n",
    "    \n",
    "    return {\"allowed\": 1 - epsilon, \"blocked\": epsilon}"
   ]
  },
  {
   "cell_type": "markdown",
   "id": "44f2963c",
   "metadata": {},
   "source": [
    "We will use the same production logs above and run them through the new policy."
   ]
  },
  {
   "cell_type": "code",
   "execution_count": 2,
   "id": "bf7e2292",
   "metadata": {},
   "outputs": [
    {
     "ename": "NameError",
     "evalue": "name 'doubly_robust' is not defined",
     "output_type": "error",
     "traceback": [
      "\u001b[0;31m---------------------------------------------------------------------------\u001b[0m",
      "\u001b[0;31mNameError\u001b[0m                                 Traceback (most recent call last)",
      "Cell \u001b[0;32mIn[2], line 1\u001b[0m\n\u001b[0;32m----> 1\u001b[0m \u001b[43mdoubly_robust\u001b[49m\u001b[38;5;241m.\u001b[39mevaluate(logs_df, action_probabilities, num_bootstrap_samples\u001b[38;5;241m=\u001b[39m\u001b[38;5;241m50\u001b[39m)\n",
      "\u001b[0;31mNameError\u001b[0m: name 'doubly_robust' is not defined"
     ]
    }
   ],
   "source": [
    "doubly_robust.evaluate(logs_df, action_probabilities, num_bootstrap_samples=50)"
   ]
  },
  {
   "cell_type": "markdown",
   "id": "062ac2e2",
   "metadata": {},
   "source": [
    "The doubly robust method estimates that the expected reward per observation for the new policy is much worse than the logging policy so we wouldn't roll out this new policy into an A/B test or production and instead should test some different policies offline.\n",
    "\n",
    "However, the confidence intervals around the expected rewards for our old and new policies overlap heavily. If we want to be really certain, it's might be best to gather some more data to ensure the difference is signal and not noise. In this case, fortunately, we have strong reason to suspect the new policy is worse, but these confidence intervals can be important in cases where we have less prior certainty."
   ]
  },
  {
   "cell_type": "code",
   "execution_count": null,
   "id": "d89b2f8f",
   "metadata": {},
   "outputs": [],
   "source": []
  }
 ],
 "metadata": {
  "kernelspec": {
   "display_name": "py38_env",
   "language": "python",
   "name": "py38_env"
  },
  "language_info": {
   "codemirror_mode": {
    "name": "ipython",
    "version": 3
   },
   "file_extension": ".py",
   "mimetype": "text/x-python",
   "name": "python",
   "nbconvert_exporter": "python",
   "pygments_lexer": "ipython3",
   "version": "3.8.5"
  }
 },
 "nbformat": 4,
 "nbformat_minor": 5
}
